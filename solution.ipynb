{
 "cells": [
  {
   "cell_type": "code",
   "execution_count": 211,
   "metadata": {},
   "outputs": [],
   "source": [
    "import numpy as np \n",
    "import pandas as pd \n",
    "import matplotlib.pyplot as plt \n",
    "from sklearn import preprocessing \n",
    "from sklearn.model_selection import train_test_split\n",
    "from sklearn.metrics import accuracy_score\n",
    "from sklearn.neural_network import MLPClassifier\n",
    "from sklearn.linear_model import LogisticRegression\n",
    "from sklearn.ensemble import GradientBoostingClassifier\n",
    "from sklearn.ensemble import RandomForestClassifier\n",
    "%matplotlib inline "
   ]
  },
  {
   "cell_type": "code",
   "execution_count": 212,
   "metadata": {
    "scrolled": true
   },
   "outputs": [],
   "source": [
    "df = pd.read_csv(\"train_values.csv\")\n",
    "df.drop(\"row_id\", axis=1, inplace = True)\n"
   ]
  },
  {
   "cell_type": "code",
   "execution_count": 213,
   "metadata": {},
   "outputs": [
    {
     "data": {
      "text/plain": [
       "array([0, 1])"
      ]
     },
     "execution_count": 213,
     "metadata": {},
     "output_type": "execute_result"
    }
   ],
   "source": [
    "le = preprocessing.LabelEncoder()\n",
    "df[\"co_applicant\"]=le.fit_transform(df[\"co_applicant\"])\n",
    "df[\"co_applicant\"].unique()\n"
   ]
  },
  {
   "cell_type": "code",
   "execution_count": 214,
   "metadata": {},
   "outputs": [],
   "source": [
    "for i in df.columns:\n",
    "    df[i] = df[i].replace(-1, np.nan)"
   ]
  },
  {
   "cell_type": "code",
   "execution_count": 215,
   "metadata": {},
   "outputs": [
    {
     "data": {
      "text/plain": [
       "loan_type                             0\n",
       "property_type                         0\n",
       "loan_purpose                          0\n",
       "occupancy                             0\n",
       "loan_amount                           0\n",
       "preapproval                           0\n",
       "msa_md                            76982\n",
       "state_code                        19132\n",
       "county_code                       20466\n",
       "applicant_ethnicity                   0\n",
       "applicant_race                        0\n",
       "applicant_sex                         0\n",
       "applicant_income                  39948\n",
       "population                        22465\n",
       "minority_population_pct           22466\n",
       "ffiecmedian_family_income         22440\n",
       "tract_to_msa_md_income_pct        22514\n",
       "number_of_owner-occupied_units    22565\n",
       "number_of_1_to_4_family_units     22530\n",
       "lender                                0\n",
       "co_applicant                          0\n",
       "accepted                              0\n",
       "dtype: int64"
      ]
     },
     "execution_count": 215,
     "metadata": {},
     "output_type": "execute_result"
    }
   ],
   "source": [
    "df.isnull().sum()"
   ]
  },
  {
   "cell_type": "code",
   "execution_count": 216,
   "metadata": {},
   "outputs": [
    {
     "data": {
      "text/plain": [
       "<matplotlib.axes._subplots.AxesSubplot at 0x7f393d6f8a90>"
      ]
     },
     "execution_count": 216,
     "metadata": {},
     "output_type": "execute_result"
    },
    {
     "data": {
      "image/png": "[encoded data removed]",
      "text/plain": [
       "<Figure size 432x288 with 1 Axes>"
      ]
     },
     "metadata": {
      "needs_background": "light"
     },
     "output_type": "display_data"
    }
   ],
   "source": [
    "df['LoanAmount_log'] = np.log(df['loan_amount'])\n",
    "df['LoanAmount_log'].hist(bins=20)"
   ]
  },
  {
   "cell_type": "code",
   "execution_count": 217,
   "metadata": {},
   "outputs": [
    {
     "data": {
      "text/plain": [
       "<matplotlib.axes._subplots.AxesSubplot at 0x7f393d6cee48>"
      ]
     },
     "execution_count": 217,
     "metadata": {},
     "output_type": "execute_result"
    },
    {
     "data": {
      "image/png": "[encoded data removed]",
      "text/plain": [
       "<Figure size 432x288 with 1 Axes>"
      ]
     },
     "metadata": {
      "needs_background": "light"
     },
     "output_type": "display_data"
    }
   ],
   "source": [
    "df[\"applicant_income\"] = df[\"applicant_income\"].fillna(df[\"applicant_income\"].sort_values().median())\n",
    "df['applicant_income_log'] = np.log(df['applicant_income'])\n",
    "df['applicant_income_log'].hist(bins=20)"
   ]
  },
  {
   "cell_type": "code",
   "execution_count": 218,
   "metadata": {},
   "outputs": [],
   "source": [
    "df['Capacity%'] = ((df['loan_amount'] / df['applicant_income']) *100).astype(float)"
   ]
  },
  {
   "cell_type": "code",
   "execution_count": 219,
   "metadata": {},
   "outputs": [
    {
     "data": {
      "text/plain": [
       "loan_type                         False\n",
       "property_type                     False\n",
       "loan_purpose                      False\n",
       "occupancy                         False\n",
       "loan_amount                       False\n",
       "preapproval                       False\n",
       "msa_md                             True\n",
       "state_code                         True\n",
       "county_code                        True\n",
       "applicant_ethnicity               False\n",
       "applicant_race                    False\n",
       "applicant_sex                     False\n",
       "applicant_income                  False\n",
       "population                         True\n",
       "minority_population_pct            True\n",
       "ffiecmedian_family_income          True\n",
       "tract_to_msa_md_income_pct         True\n",
       "number_of_owner-occupied_units     True\n",
       "number_of_1_to_4_family_units      True\n",
       "lender                            False\n",
       "co_applicant                      False\n",
       "accepted                          False\n",
       "LoanAmount_log                    False\n",
       "applicant_income_log              False\n",
       "Capacity%                         False\n",
       "dtype: bool"
      ]
     },
     "execution_count": 219,
     "metadata": {},
     "output_type": "execute_result"
    }
   ],
   "source": [
    "df.isnull().any()"
   ]
  },
  {
   "cell_type": "code",
   "execution_count": 220,
   "metadata": {},
   "outputs": [],
   "source": [
    "df[\"msa_md\"].value_counts()\n",
    "df[\"msa_md\"] = df[\"msa_md\"].fillna(24)\n"
   ]
  },
  {
   "cell_type": "code",
   "execution_count": 221,
   "metadata": {},
   "outputs": [],
   "source": [
    "df[\"state_code\"].value_counts()\n",
    "df[\"state_code\"] = df[\"state_code\"].fillna(37.0)\n"
   ]
  },
  {
   "cell_type": "code",
   "execution_count": 222,
   "metadata": {},
   "outputs": [],
   "source": [
    "df[\"county_code\"].value_counts()\n",
    "df[\"county_code\"] = df[\"county_code\"].fillna(20.0)"
   ]
  },
  {
   "cell_type": "code",
   "execution_count": 224,
   "metadata": {},
   "outputs": [],
   "source": [
    "df[\"population\"] = df[\"population\"].fillna(df[\"population\"].sort_values().median())"
   ]
  },
  {
   "cell_type": "code",
   "execution_count": 225,
   "metadata": {},
   "outputs": [],
   "source": [
    "df[\"minority_population_pct\"].value_counts()\n",
    "df[\"minority_population_pct\"] = df[\"minority_population_pct\"].fillna(100.000)"
   ]
  },
  {
   "cell_type": "code",
   "execution_count": 226,
   "metadata": {},
   "outputs": [],
   "source": [
    "df[\"ffiecmedian_family_income\"].value_counts()\n",
    "df[\"ffiecmedian_family_income\"] = df[\"ffiecmedian_family_income\"].fillna(df[\"ffiecmedian_family_income\"].sort_values().median())"
   ]
  },
  {
   "cell_type": "code",
   "execution_count": 227,
   "metadata": {},
   "outputs": [],
   "source": [
    "df[\"tract_to_msa_md_income_pct\"].value_counts()\n",
    "df[\"tract_to_msa_md_income_pct\"] = df[\"tract_to_msa_md_income_pct\"].fillna(100.000)"
   ]
  },
  {
   "cell_type": "code",
   "execution_count": 228,
   "metadata": {},
   "outputs": [],
   "source": [
    "df[\"number_of_owner-occupied_units\"].value_counts()\n",
    "df[\"number_of_owner-occupied_units\"] = df[\"number_of_owner-occupied_units\"].fillna(df[\"number_of_owner-occupied_units\"].sort_values().median())"
   ]
  },
  {
   "cell_type": "code",
   "execution_count": 229,
   "metadata": {},
   "outputs": [],
   "source": [
    "df[\"number_of_1_to_4_family_units\"] = df[\"number_of_1_to_4_family_units\"].fillna(df[\"number_of_1_to_4_family_units\"].sort_values().median())"
   ]
  },
  {
   "cell_type": "code",
   "execution_count": 230,
   "metadata": {},
   "outputs": [
    {
     "data": {
      "text/plain": [
       "loan_type                           int64\n",
       "property_type                       int64\n",
       "loan_purpose                        int64\n",
       "occupancy                           int64\n",
       "loan_amount                         int64\n",
       "preapproval                         int64\n",
       "msa_md                            float64\n",
       "state_code                        float64\n",
       "county_code                       float64\n",
       "applicant_ethnicity                 int64\n",
       "applicant_race                      int64\n",
       "applicant_sex                       int64\n",
       "applicant_income                  float64\n",
       "population                        float64\n",
       "minority_population_pct           float64\n",
       "ffiecmedian_family_income         float64\n",
       "tract_to_msa_md_income_pct        float64\n",
       "number_of_owner-occupied_units    float64\n",
       "number_of_1_to_4_family_units     float64\n",
       "lender                              int64\n",
       "co_applicant                        int64\n",
       "accepted                            int64\n",
       "LoanAmount_log                    float64\n",
       "applicant_income_log              float64\n",
       "Capacity%                         float64\n",
       "dtype: object"
      ]
     },
     "execution_count": 230,
     "metadata": {},
     "output_type": "execute_result"
    }
   ],
   "source": [
    "df.isnull().sum()\n",
    "df.dtypes"
   ]
  },
  {
   "cell_type": "code",
   "execution_count": 232,
   "metadata": {},
   "outputs": [
    {
     "data": {
      "text/plain": [
       "loan_type                         0.018589\n",
       "property_type                    -0.080603\n",
       "loan_purpose                     -0.131595\n",
       "occupancy                         0.022043\n",
       "loan_amount                       0.046370\n",
       "preapproval                       0.017209\n",
       "msa_md                            0.073920\n",
       "state_code                        0.004854\n",
       "county_code                       0.045159\n",
       "applicant_ethnicity               0.009777\n",
       "applicant_race                    0.045361\n",
       "applicant_sex                    -0.038391\n",
       "applicant_income                  0.070658\n",
       "population                        0.025540\n",
       "minority_population_pct          -0.175627\n",
       "ffiecmedian_family_income         0.070197\n",
       "tract_to_msa_md_income_pct        0.064809\n",
       "number_of_owner-occupied_units    0.040934\n",
       "number_of_1_to_4_family_units     0.012038\n",
       "lender                            0.008494\n",
       "co_applicant                      0.101116\n",
       "LoanAmount_log                    0.169416\n",
       "applicant_income_log              0.178756\n",
       "Capacity%                        -0.011796\n",
       "dtype: float64"
      ]
     },
     "execution_count": 232,
     "metadata": {},
     "output_type": "execute_result"
    }
   ],
   "source": [
    "x = df.drop(['accepted'] , axis = 1)\n",
    "y = df[\"accepted\"]\n",
    "#x = preprocessing.StandardScaler().fit(x).transform(x)\n",
    "x.apply(lambda x: x.corr(y))"
   ]
  },
  {
   "cell_type": "code",
   "execution_count": 233,
   "metadata": {},
   "outputs": [],
   "source": [
    "x_train, x_test, y_train, y_test = train_test_split(x, y, test_size = .3, random_state= 4)"
   ]
  },
  {
   "cell_type": "code",
   "execution_count": 234,
   "metadata": {},
   "outputs": [
    {
     "name": "stdout",
     "output_type": "stream",
     "text": [
      "accuracy of the model = 0.6903733333333333\n"
     ]
    }
   ],
   "source": [
    "xl = GradientBoostingClassifier(learning_rate=0.1)\n",
    "xl.fit(x_train, y_train)\n",
    "yhat = xl.predict(x_test)\n",
    "print(\"accuracy of the model =\", accuracy_score(y_test, yhat))"
   ]
  },
  {
   "cell_type": "code",
   "execution_count": null,
   "metadata": {},
   "outputs": [],
   "source": []
  }
 ],
 "metadata": {
  "kernelspec": {
   "display_name": "Python 3",
   "language": "python",
   "name": "python3"
  },
  "language_info": {
   "codemirror_mode": {
    "name": "ipython",
    "version": 3
   },
   "file_extension": ".py",
   "mimetype": "text/x-python",
   "name": "python",
   "nbconvert_exporter": "python",
   "pygments_lexer": "ipython3",
   "version": "3.7.3"
  }
 },
 "nbformat": 4,
 "nbformat_minor": 2
}
