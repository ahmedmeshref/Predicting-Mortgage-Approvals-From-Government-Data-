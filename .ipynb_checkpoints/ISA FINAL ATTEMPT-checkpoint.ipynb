{
 "cells": [
  {
   "cell_type": "code",
   "execution_count": null,
   "metadata": {},
   "outputs": [],
   "source": [
    "import numpy as np \n",
    "import pandas as pd \n",
    "import matplotlib.pyplot as plt \n",
    "from sklearn import preprocessing \n",
    "from sklearn.model_selection import train_test_split\n",
    "from sklearn.metrics import accuracy_score\n",
    "from sklearn.neural_network import MLPClassifier\n",
    "from sklearn.linear_model import LogisticRegression\n",
    "from sklearn.ensemble import GradientBoostingClassifier\n",
    "%matplotlib inline "
   ]
  },
  {
   "cell_type": "code",
   "execution_count": null,
   "metadata": {
    "scrolled": true
   },
   "outputs": [],
   "source": [
    "df = pd.read_csv(\"train_values.csv\")\n",
    "df.drop(\"row_id\", axis=1, inplace = True)"
   ]
  },
  {
   "cell_type": "code",
   "execution_count": null,
   "metadata": {},
   "outputs": [],
   "source": [
    "le = preprocessing.LabelEncoder()\n",
    "df[\"co_applicant\"]=le.fit_transform(df[\"co_applicant\"])\n",
    "df[\"co_applicant\"].unique()\n",
    "df.dtypes"
   ]
  },
  {
   "cell_type": "code",
   "execution_count": 30,
   "metadata": {},
   "outputs": [],
   "source": [
    "df[\"county_code\"] = df[\"county_code\"].replace(-1, np.nan)"
   ]
  },
  {
   "cell_type": "code",
   "execution_count": 31,
   "metadata": {},
   "outputs": [
    {
     "data": {
      "text/plain": [
       "loan_type                             0\n",
       "property_type                         0\n",
       "loan_purpose                          0\n",
       "occupancy                             0\n",
       "loan_amount                           0\n",
       "preapproval                           0\n",
       "msa_md                                0\n",
       "state_code                            0\n",
       "county_code                       20466\n",
       "applicant_ethnicity                   0\n",
       "applicant_race                        0\n",
       "applicant_sex                         0\n",
       "applicant_income                  39948\n",
       "population                        22465\n",
       "minority_population_pct           22466\n",
       "ffiecmedian_family_income         22440\n",
       "tract_to_msa_md_income_pct        22514\n",
       "number_of_owner-occupied_units    22565\n",
       "number_of_1_to_4_family_units     22530\n",
       "lender                                0\n",
       "co_applicant                          0\n",
       "accepted                              0\n",
       "dtype: int64"
      ]
     },
     "execution_count": 31,
     "metadata": {},
     "output_type": "execute_result"
    }
   ],
   "source": [
    "df.isnull().sum()"
   ]
  },
  {
   "cell_type": "code",
   "execution_count": 50,
   "metadata": {},
   "outputs": [
    {
     "name": "stdout",
     "output_type": "stream",
     "text": [
      "1582.0     334\n",
      "1428.0     310\n",
      "1795.0     306\n",
      "1565.0     303\n",
      "1562.0     302\n",
      "1561.0     302\n",
      "1647.0     301\n",
      "1610.0     299\n",
      "1628.0     298\n",
      "1341.0     297\n",
      "1552.0     297\n",
      "1573.0     296\n",
      "1645.0     296\n",
      "1607.0     296\n",
      "1580.0     296\n",
      "1392.0     296\n",
      "1649.0     295\n",
      "1636.0     294\n",
      "1617.0     294\n",
      "1602.0     294\n",
      "1662.0     294\n",
      "1666.0     294\n",
      "1367.0     293\n",
      "1620.0     293\n",
      "1644.0     293\n",
      "1627.0     292\n",
      "1631.0     292\n",
      "1343.0     292\n",
      "1704.0     291\n",
      "1534.0     290\n",
      "          ... \n",
      "5749.0       1\n",
      "7587.0       1\n",
      "7654.0       1\n",
      "11493.0      1\n",
      "7905.0       1\n",
      "11589.0      1\n",
      "5739.0       1\n",
      "7674.0       1\n",
      "5737.0       1\n",
      "11471.0      1\n",
      "7098.0       1\n",
      "11457.0      1\n",
      "11505.0      1\n",
      "9018.0       1\n",
      "5753.0       1\n",
      "5755.0       1\n",
      "5372.0       1\n",
      "7350.0       1\n",
      "7899.0       1\n",
      "11530.0      1\n",
      "6196.0       1\n",
      "6477.0       1\n",
      "5775.0       1\n",
      "5350.0       1\n",
      "5787.0       1\n",
      "5789.0       1\n",
      "11583.0      1\n",
      "5348.0       1\n",
      "5264.0       1\n",
      "6172.0       1\n",
      "Name: number_of_1_to_4_family_units, Length: 7374, dtype: int64\n",
      "1886.1470647370516\n"
     ]
    }
   ],
   "source": [
    "print(df[\"number_of_1_to_4_family_units\"].value_counts())\n",
    "print(df[\"number_of_1_to_4_family_units\"].mean())\n",
    "#df[\"population\"].median()\n",
    "#df[\"population\"]"
   ]
  },
  {
   "cell_type": "code",
   "execution_count": null,
   "metadata": {},
   "outputs": [],
   "source": [
    "df[\"county_code\"].fillna(20, inplace = True)\n",
    "df[\"applicant_income\"].fillna(102, inplace = True)\n",
    "df[\"population\"].fillna(4789, inplace = True)\n",
    "df[\"minority_population_pct\"].fillna(100, inplace = True)\n",
    "df[\"ffiecmedian_family_income\"].fillna(69235, inplace = True)\n",
    "df[\"tract_to_msa_md_income_pct\"].fillna(100, inplace = True)\n",
    "df[\"number_of_owner-occupied_units\"].fillna(1427, inplace = True)"
   ]
  },
  {
   "cell_type": "code",
   "execution_count": null,
   "metadata": {},
   "outputs": [],
   "source": [
    "df.drop(\"number_of_1_to_4_family_units\", axis = 1, inplace = True)\n",
    "df.drop(\"lender\", axis = 1, inplace = True)\n",
    "df.drop(\"applicant_ethnicity\", axis = 1, inplace = True)"
   ]
  },
  {
   "cell_type": "code",
   "execution_count": null,
   "metadata": {},
   "outputs": [],
   "source": [
    "df = df.astype(int)\n",
    "x = df.drop('accepted', axis = 1)\n",
    "y = df[\"accepted\"]\n",
    "x = preprocessing.StandardScaler().fit(x).transform(x)\n",
    "df.drop(\"accepted\", axis=1).apply(lambda x: x.corr(df.accepted))"
   ]
  },
  {
   "cell_type": "code",
   "execution_count": 54,
   "metadata": {},
   "outputs": [
    {
     "data": {
      "text/plain": [
       "loan_type                         0.018589\n",
       "property_type                    -0.080603\n",
       "loan_purpose                     -0.131595\n",
       "occupancy                         0.022043\n",
       "loan_amount                       0.046370\n",
       "preapproval                       0.017209\n",
       "msa_md                            0.080288\n",
       "state_code                        0.090534\n",
       "county_code                       0.045159\n",
       "applicant_ethnicity               0.009777\n",
       "applicant_race                    0.045361\n",
       "applicant_sex                    -0.038391\n",
       "applicant_income                  0.071661\n",
       "population                        0.028403\n",
       "minority_population_pct          -0.175991\n",
       "ffiecmedian_family_income         0.065340\n",
       "tract_to_msa_md_income_pct        0.064904\n",
       "number_of_owner-occupied_units    0.035214\n",
       "number_of_1_to_4_family_units     0.005891\n",
       "lender                            0.008494\n",
       "co_applicant                      0.101116\n",
       "dtype: float64"
      ]
     },
     "execution_count": 54,
     "metadata": {},
     "output_type": "execute_result"
    }
   ],
   "source": [
    "x_train, x_test, y_train, y_test = train_test_split(x, y, test_size = .3, random_state= 4)"
   ]
  },
  {
   "cell_type": "code",
   "execution_count": null,
   "metadata": {},
   "outputs": [],
   "source": [
    "Mlp = MLPClassifier(hidden_layer_sizes=(100, ), activation=’relu’, solver=’adam’, alpha=0.0001, batch_size=’auto’, learning_rate=’constant’, learning_rate_init=0.001, power_t=0.5, max_iter=200, shuffle=True, random_state=None, tol=0.0001, verbose=False, warm_start=False, momentum=0.9, nesterovs_momentum=True, early_stopping=False, validation_fraction=0.1, beta_1=0.9, beta_2=0.999, epsilon=1e-08, n_iter_no_change=10)\n",
    "Mlp.fit(x_train, y_train)\n",
    "yhat = Mlp.predict(x_test)\n",
    "print(\"accuracy of the model =\", accuracy_score(y_test, yhat))"
   ]
  },
  {
   "cell_type": "code",
   "execution_count": null,
   "metadata": {},
   "outputs": [],
   "source": [
    "LogisticRegression\n",
    "LR = LogisticRegression()\n",
    "LR.fit(x_train, y_train)\n",
    "yhat = LR.predict(x_test)\n",
    "print(\"accuracy of the model =\", accuracy_score(y_test, yhat))"
   ]
  },
  {
   "cell_type": "code",
   "execution_count": 55,
   "metadata": {},
   "outputs": [
    {
     "name": "stdout",
     "output_type": "stream",
     "text": [
      "accuracy of the model = 0.6896666666666667\n"
     ]
    }
   ],
   "source": [
    "xl = GradientBoostingClassifier()\n",
    "xl.fit(x_train, y_train)\n",
    "yhat = xl.predict(x_test)\n",
    "print(\"accuracy of the model =\", accuracy_score(y_test, yhat))"
   ]
  },
  {
   "cell_type": "code",
   "execution_count": null,
   "metadata": {},
   "outputs": [],
   "source": []
  }
 ],
 "metadata": {
  "kernelspec": {
   "display_name": "Python 3",
   "language": "python",
   "name": "python3"
  },
  "language_info": {
   "codemirror_mode": {
    "name": "ipython",
    "version": 3
   },
   "file_extension": ".py",
   "mimetype": "text/x-python",
   "name": "python",
   "nbconvert_exporter": "python",
   "pygments_lexer": "ipython3",
   "version": "3.7.3"
  }
 },
 "nbformat": 4,
 "nbformat_minor": 2
}
